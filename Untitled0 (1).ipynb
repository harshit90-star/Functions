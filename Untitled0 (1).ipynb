{
  "nbformat": 4,
  "nbformat_minor": 0,
  "metadata": {
    "colab": {
      "provenance": []
    },
    "kernelspec": {
      "name": "python3",
      "display_name": "Python 3"
    },
    "language_info": {
      "name": "python"
    }
  },
  "cells": [
    {
      "cell_type": "markdown",
      "source": [
        "1. What is the difference between a function and a method in Python?\n",
        "  - A function is a reusable block of code that can be used for independent tasks, while a method is used to perform actions on a specific object or class.\n",
        "\n",
        "2. Explain the concept of function arguments and parameters in Python.\n",
        "  - A parameter is the variable listed inside the parentheses in the function definition. An argument is the value that are sent to the function when it is called.\n",
        "\n",
        "3. What are the different ways to define and call a function in Python?\n",
        "  - To define a function in Python, you can use the def keyword, followed by the function name and parentheses.\n",
        "\n",
        "4. What is the purpose of the `return` statement in a Python function?\n",
        "  - Determines the value that the function will return. If not included, the function defaults to returning None.\n",
        "\n",
        "5. What are iterators in Python and how do they differ from iterables?\n",
        "  - An iterator is an object that allows traversal through a countable number of values. It is used to iterate over iterables objects like lists, tuples, sets, etc\n",
        "\n",
        "6. Explain the concept of generators in Python and how they are defined.\n",
        "  - In Python, a generator is a function that produces a sequence of values one at a time, rather than returning them all at once.\n",
        "\n",
        "7. What are the advantages of using generators over regular functions?\n",
        "  - We use generators over regular functions because a generator does not return its results all at once.\n",
        "\n",
        "8. What is a lambda function in Python and when is it typically used?\n",
        "  - Lambda functions are small, anonymous functions defined using the lambda keyword. They are used for creating small, throw away functions without the need to formally define a function using def.\n",
        "\n",
        "9. Explain the purpose and usage of the `map()` function in Python.\n",
        "  - The map() function is used to process and transform all the items in an iterable without using an explicit for loop.\n",
        "\n",
        "10. What is the difference between `map()`, `reduce()`, and `filter()` functions in Python?\n",
        "  - Map function takes a list of numbers and returns a new list with each number squared.\n",
        "  - Reduce function computes the sum of a list of numbers, reducing them to a single total.\n",
        "  -  Filter function creates a new list of only even numbers from a list of integers.\n",
        "\n",
        "11. Using pen & Paper write the internal mechanism for sum operation using reduce function on this given\n",
        "list:[47,11,42,13];\n"
      ],
      "metadata": {
        "id": "yMEizumAR7Q6"
      }
    },
    {
      "cell_type": "markdown",
      "source": [
        "![WhatsApp Image 2025-01-19 at 21.21.21_9aee4e0a.jpg](data:image/jpeg;base64,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)"
      ],
      "metadata": {
        "id": "uLzwR2PZWzIj"
      }
    },
    {
      "cell_type": "markdown",
      "source": [
        "# Practical Questions\n",
        "\n",
        "\n"
      ],
      "metadata": {
        "id": "rlcGXnJXaNNa"
      }
    },
    {
      "cell_type": "code",
      "source": [
        "#1. Write a Python function that takes a list of numbers as input and returns the sum of all even numbers in the list.\n",
        "numbers = [1, 2, 3, 4, 5, 6, 7]\n",
        "def sum_even_numbers(numbers):\n",
        "  s = 0\n",
        "  for i in numbers:\n",
        "    if i % 2 == 0:\n",
        "      s = s + i\n",
        "  return s"
      ],
      "metadata": {
        "id": "mdPAQ5eeaTzY"
      },
      "execution_count": null,
      "outputs": []
    },
    {
      "cell_type": "code",
      "source": [
        "sum_even_numbers(numbers)"
      ],
      "metadata": {
        "colab": {
          "base_uri": "https://localhost:8080/"
        },
        "id": "xvYM45Gmcq2E",
        "outputId": "80366ed0-e5b1-427c-a241-499a5d89bb2d"
      },
      "execution_count": null,
      "outputs": [
        {
          "output_type": "execute_result",
          "data": {
            "text/plain": [
              "12"
            ]
          },
          "metadata": {},
          "execution_count": 23
        }
      ]
    },
    {
      "cell_type": "code",
      "source": [
        "#2. Create a Python function that accepts a string and returns the reverse of that string.\n",
        "a = \"pwskills\"\n",
        "def reverse_string(a):\n",
        "  return a[::-1]\n",
        "\n",
        "reverse_string(a)"
      ],
      "metadata": {
        "colab": {
          "base_uri": "https://localhost:8080/",
          "height": 36
        },
        "id": "wggnysPneKbB",
        "outputId": "50c187d4-4c96-4676-9cea-17a66a4ae24c"
      },
      "execution_count": null,
      "outputs": [
        {
          "output_type": "execute_result",
          "data": {
            "text/plain": [
              "'sllikswp'"
            ],
            "application/vnd.google.colaboratory.intrinsic+json": {
              "type": "string"
            }
          },
          "metadata": {},
          "execution_count": 26
        }
      ]
    },
    {
      "cell_type": "code",
      "source": [
        "#3. Implement a Python function that takes a list of integers and returns a new list containing the squares of each number.\n",
        "l1 = [1, 2, 3, 4, 5]\n",
        "def square_numbers(l1):\n",
        "  l2 = []\n",
        "  for i in l1:\n",
        "    l2.append(i**2)\n",
        "  return l2"
      ],
      "metadata": {
        "id": "RNM7vJkkf06k"
      },
      "execution_count": null,
      "outputs": []
    },
    {
      "cell_type": "code",
      "source": [
        "square_numbers(l1)"
      ],
      "metadata": {
        "colab": {
          "base_uri": "https://localhost:8080/"
        },
        "id": "C83o0BGBhMjM",
        "outputId": "46b9af56-29ee-4627-c8af-be33ba4d6660"
      },
      "execution_count": null,
      "outputs": [
        {
          "output_type": "execute_result",
          "data": {
            "text/plain": [
              "[1, 4, 9, 16, 25]"
            ]
          },
          "metadata": {},
          "execution_count": 28
        }
      ]
    },
    {
      "cell_type": "code",
      "source": [
        "#4. Write a Python function that checks if a given number is prime or not from 1 to 200.\n",
        "def is_prime(number):\n",
        "    if number < 2:\n",
        "        return False\n",
        "    for i in range(2, int(number**0.5) + 1):\n",
        "        if number % i == 0:\n",
        "            return False\n",
        "    return True"
      ],
      "metadata": {
        "id": "i_miACTXhPDi"
      },
      "execution_count": null,
      "outputs": []
    },
    {
      "cell_type": "code",
      "source": [
        "number = 17\n",
        "is_prime(number)"
      ],
      "metadata": {
        "colab": {
          "base_uri": "https://localhost:8080/"
        },
        "id": "JZXVQD_UhjyS",
        "outputId": "9afe9106-4319-41a9-ff87-02096d62e97c"
      },
      "execution_count": null,
      "outputs": [
        {
          "output_type": "execute_result",
          "data": {
            "text/plain": [
              "True"
            ]
          },
          "metadata": {},
          "execution_count": 31
        }
      ]
    },
    {
      "cell_type": "code",
      "source": [
        "number = 195\n",
        "is_prime(number)"
      ],
      "metadata": {
        "colab": {
          "base_uri": "https://localhost:8080/"
        },
        "id": "IJ_74wWfh0ff",
        "outputId": "8297b34a-f38b-4bd3-fe70-2a11baf92425"
      },
      "execution_count": null,
      "outputs": [
        {
          "output_type": "execute_result",
          "data": {
            "text/plain": [
              "False"
            ]
          },
          "metadata": {},
          "execution_count": 33
        }
      ]
    },
    {
      "cell_type": "code",
      "source": [
        "#5. Create an iterator class in Python that generates the Fibonacci sequence up to a specified number of terms.\n",
        "def fib(n):\n",
        "    a = 0\n",
        "    b = 1\n",
        "    for i in range(n):\n",
        "        yield a\n",
        "        a, b = b, a+b\n"
      ],
      "metadata": {
        "id": "byJzZg_hh-Bi"
      },
      "execution_count": null,
      "outputs": []
    },
    {
      "cell_type": "code",
      "source": [
        "n = fib(5)\n",
        "next(n)"
      ],
      "metadata": {
        "colab": {
          "base_uri": "https://localhost:8080/"
        },
        "id": "WL9vsKFLjVun",
        "outputId": "78a1a193-1e8f-44ec-a17b-53895d879d37"
      },
      "execution_count": null,
      "outputs": [
        {
          "output_type": "execute_result",
          "data": {
            "text/plain": [
              "0"
            ]
          },
          "metadata": {},
          "execution_count": 48
        }
      ]
    },
    {
      "cell_type": "code",
      "source": [
        "next(n)"
      ],
      "metadata": {
        "colab": {
          "base_uri": "https://localhost:8080/"
        },
        "id": "zNRE2SGpjtI2",
        "outputId": "f8b03d3d-7a3e-4991-c937-d500c36a7b98"
      },
      "execution_count": null,
      "outputs": [
        {
          "output_type": "execute_result",
          "data": {
            "text/plain": [
              "1"
            ]
          },
          "metadata": {},
          "execution_count": 49
        }
      ]
    },
    {
      "cell_type": "code",
      "source": [
        "next(n)"
      ],
      "metadata": {
        "colab": {
          "base_uri": "https://localhost:8080/"
        },
        "id": "F6lJFxmmkDbQ",
        "outputId": "67959a86-bacf-41b3-e3ef-41e770e4a27d"
      },
      "execution_count": null,
      "outputs": [
        {
          "output_type": "execute_result",
          "data": {
            "text/plain": [
              "1"
            ]
          },
          "metadata": {},
          "execution_count": 50
        }
      ]
    },
    {
      "cell_type": "code",
      "source": [
        "next(n)"
      ],
      "metadata": {
        "colab": {
          "base_uri": "https://localhost:8080/"
        },
        "id": "b8hfAt58kE_O",
        "outputId": "f3fc1e6a-4ee5-4cba-b000-d6303b64f163"
      },
      "execution_count": null,
      "outputs": [
        {
          "output_type": "execute_result",
          "data": {
            "text/plain": [
              "2"
            ]
          },
          "metadata": {},
          "execution_count": 51
        }
      ]
    },
    {
      "cell_type": "code",
      "source": [
        "next(n)"
      ],
      "metadata": {
        "colab": {
          "base_uri": "https://localhost:8080/"
        },
        "id": "vIMnNF5skG_4",
        "outputId": "ce525df4-1e1f-4ba3-f2f4-0e6bca62bb67"
      },
      "execution_count": null,
      "outputs": [
        {
          "output_type": "execute_result",
          "data": {
            "text/plain": [
              "3"
            ]
          },
          "metadata": {},
          "execution_count": 52
        }
      ]
    },
    {
      "cell_type": "code",
      "source": [
        "#6. Write a generator function in Python that yields the powers of 2 up to a given exponent.\n",
        "def square_number_generators(n):\n",
        "    for i in range(n):\n",
        "        yield i**2"
      ],
      "metadata": {
        "id": "-TBSWpdflzGp"
      },
      "execution_count": null,
      "outputs": []
    },
    {
      "cell_type": "code",
      "source": [
        "n = square_number_generators(4)"
      ],
      "metadata": {
        "id": "ucMpTL7hmR3W"
      },
      "execution_count": null,
      "outputs": []
    },
    {
      "cell_type": "code",
      "source": [
        "next(n)"
      ],
      "metadata": {
        "colab": {
          "base_uri": "https://localhost:8080/"
        },
        "id": "G1gNj4yamVWj",
        "outputId": "5b5f4d3a-ea2b-481f-8c9f-0b6bceafd6b0"
      },
      "execution_count": null,
      "outputs": [
        {
          "output_type": "execute_result",
          "data": {
            "text/plain": [
              "0"
            ]
          },
          "metadata": {},
          "execution_count": 59
        }
      ]
    },
    {
      "cell_type": "code",
      "source": [
        "next(n)"
      ],
      "metadata": {
        "colab": {
          "base_uri": "https://localhost:8080/"
        },
        "id": "5JuFdjJSmXib",
        "outputId": "ae688897-fb1d-4b75-fed3-a957d304f66c"
      },
      "execution_count": null,
      "outputs": [
        {
          "output_type": "execute_result",
          "data": {
            "text/plain": [
              "1"
            ]
          },
          "metadata": {},
          "execution_count": 60
        }
      ]
    },
    {
      "cell_type": "code",
      "source": [
        "next(n)"
      ],
      "metadata": {
        "colab": {
          "base_uri": "https://localhost:8080/"
        },
        "id": "KHP2z7T9mkTB",
        "outputId": "9bd42b3d-bd58-4831-eee8-f3b2a707f44b"
      },
      "execution_count": null,
      "outputs": [
        {
          "output_type": "execute_result",
          "data": {
            "text/plain": [
              "4"
            ]
          },
          "metadata": {},
          "execution_count": 61
        }
      ]
    },
    {
      "cell_type": "code",
      "source": [
        "next(n)"
      ],
      "metadata": {
        "colab": {
          "base_uri": "https://localhost:8080/"
        },
        "id": "nlocaJt-mlgN",
        "outputId": "631c77b9-7a17-4167-f9d4-a4a656b679a9"
      },
      "execution_count": null,
      "outputs": [
        {
          "output_type": "execute_result",
          "data": {
            "text/plain": [
              "9"
            ]
          },
          "metadata": {},
          "execution_count": 62
        }
      ]
    },
    {
      "cell_type": "code",
      "source": [
        "#7. Implement a generator function that reads a file line by line and yields each line as a string.\n",
        "def read_file(file_path):\n",
        "    try:\n",
        "        with open(file_path, 'r') as file:\n",
        "            for line in file:\n",
        "                yield line\n",
        "    except FileNotFoundError:\n",
        "        print(f\"Error: File not found at path: {file_path}\")\n",
        "        return []\n",
        "file_path = 'test.txt'\n",
        "lines = read_file(file_path)\n",
        "\n",
        "for nlines in read_file(file_path):\n",
        "    if nlines:\n",
        "        print(nlines.rstrip())\n",
        "    else:\n",
        "        print(\"No lines to process.\")"
      ],
      "metadata": {
        "id": "Rw3zb_y2movI",
        "colab": {
          "base_uri": "https://localhost:8080/"
        },
        "outputId": "448604a0-a051-4a61-d848-3136f68c6c00"
      },
      "execution_count": null,
      "outputs": [
        {
          "output_type": "stream",
          "name": "stdout",
          "text": [
            "Error: File not found at path: test.txt\n"
          ]
        }
      ]
    },
    {
      "cell_type": "code",
      "source": [
        "#8. Use a lambda function in Python to sort a list of tuples based on the second element of each tuple.\n",
        "x = [\"Python\", \"Data Science\", \"Ajay\"]\n",
        "x"
      ],
      "metadata": {
        "id": "rCpQTNAXo1fU",
        "colab": {
          "base_uri": "https://localhost:8080/"
        },
        "outputId": "45297b4a-35de-4da7-97eb-5f5b4212a0c2"
      },
      "execution_count": null,
      "outputs": [
        {
          "output_type": "execute_result",
          "data": {
            "text/plain": [
              "['Python', 'Data Science', 'Ajay']"
            ]
          },
          "metadata": {},
          "execution_count": 13
        }
      ]
    },
    {
      "cell_type": "code",
      "source": [
        "sorted(x, key = lambda x: x[1])"
      ],
      "metadata": {
        "colab": {
          "base_uri": "https://localhost:8080/"
        },
        "id": "Q_iULDUWNn_L",
        "outputId": "3d7c796a-973b-4d38-cfc4-5b3aa005365b"
      },
      "execution_count": null,
      "outputs": [
        {
          "output_type": "execute_result",
          "data": {
            "text/plain": [
              "['Data Science', 'Ajay', 'Python']"
            ]
          },
          "metadata": {},
          "execution_count": 17
        }
      ]
    },
    {
      "cell_type": "code",
      "source": [
        "#9. Write a Python program that uses `map()` to convert a list of temperatures from Celsius to Fahrenheit.\n",
        "Celsius = [39.2]\n",
        "Fahrenheit = list(map(lambda x: (x * 9/5) + 32, Celsius))\n",
        "print(Fahrenheit)"
      ],
      "metadata": {
        "id": "iBvomGN0QQof",
        "colab": {
          "base_uri": "https://localhost:8080/"
        },
        "outputId": "0e1aae9d-9b9e-476c-aa2b-49829f79da90"
      },
      "execution_count": null,
      "outputs": [
        {
          "output_type": "stream",
          "name": "stdout",
          "text": [
            "[102.56]\n"
          ]
        }
      ]
    },
    {
      "cell_type": "code",
      "source": [
        "#10. Create a Python p'rogram that uses `filter()` to remove all the vowels from a given string.\n",
        "a = [\"a\", \"e\", \"q\", \"s\", \"i\", \"o\", \"u\", \"c\"]\n",
        "vowels = filter(lambda x: x in ['a', 'e', 'i', 'o', 'u'], a)\n",
        "print(list(vowels))"
      ],
      "metadata": {
        "colab": {
          "base_uri": "https://localhost:8080/"
        },
        "id": "Kl_TIn2NtpIb",
        "outputId": "3b97cf55-28b8-4a0f-fef1-2dea0ac0cada"
      },
      "execution_count": null,
      "outputs": [
        {
          "output_type": "stream",
          "name": "stdout",
          "text": [
            "['a', 'e', 'i', 'o', 'u']\n"
          ]
        }
      ]
    },
    {
      "cell_type": "code",
      "source": [
        "#11) Imagine an accounting routine used in a book shop. It works on a list with sublists, which look like this:\n",
        "#order no                   book title and author                       Quantity                    Price per item\n",
        "#34587                      Learning Python,Mark Lutz                       4                            40.95\n",
        "#98762                      Programming Python, Mark Lutz                   5                            56.80\n",
        "#77226                      Head First Python, Paul Barry                   3                            32.95\n",
        "#88112                      Einfuhrung in Python, Bernd Klein               3                            24.99\n",
        "\n",
        "\n",
        "#Write a Python program, which returns a list with 2-tuples. Each tuple consists of the order number and the product of the price per item and the quantity. The product should be increased by 10,- € if the value of the order is smaller than 100,00 €.\n",
        "#Write a Python program using lambda and map.\n"
      ],
      "metadata": {
        "id": "ttPaEXBJwM3_"
      },
      "execution_count": null,
      "outputs": []
    },
    {
      "cell_type": "code",
      "source": [
        "from functools import reduce"
      ],
      "metadata": {
        "id": "hSbYjVC34qUE"
      },
      "execution_count": null,
      "outputs": []
    },
    {
      "cell_type": "code",
      "source": [
        "orders = [[\"34587\", \"Learning Python, Mark Lutz\", 4, 40.95],\n",
        "[\"98762\", \"Programming Python, Mark Lutz\", 5, 56.80],\n",
        "[\"77226\", \"Head First Python, Paul Barry\", 3, 32.95],\n",
        "[\"88112\", \"Einfuhrung in Python3, Bernd Klein\", 3, 24.99]]\n",
        "invoice = list(map(lambda x: (x[0], x[2] * x[3]) if x[2] * x[3] >= 100 else (x[0], x[2] * x[3] + 10), orders))"
      ],
      "metadata": {
        "id": "hesKdMeD40Su"
      },
      "execution_count": null,
      "outputs": []
    },
    {
      "cell_type": "code",
      "source": [
        "print(invoice)"
      ],
      "metadata": {
        "colab": {
          "base_uri": "https://localhost:8080/"
        },
        "id": "ZNt06afN5ZMI",
        "outputId": "e2781834-9a96-4bca-c7d7-11a17f5d21f4"
      },
      "execution_count": null,
      "outputs": [
        {
          "output_type": "stream",
          "name": "stdout",
          "text": [
            "[('34587', 163.8), ('98762', 284.0), ('77226', 108.85000000000001), ('88112', 84.97)]\n"
          ]
        }
      ]
    },
    {
      "cell_type": "code",
      "source": [],
      "metadata": {
        "id": "Zr7l4q--L4i-"
      },
      "execution_count": null,
      "outputs": []
    }
  ]
}